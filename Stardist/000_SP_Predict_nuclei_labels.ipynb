{
 "cells": [
  {
   "cell_type": "markdown",
   "metadata": {},
   "source": [
    "<h2>Single Image - Predict and/or visualize nuclei labels</h2>\n",
    "\n",
    "This notebook lets you process multichannel 3D stacks or 2D images (<code>.czi</code>, <code>.nd2</code>) to generate nuclei labels or visualize already generated ones.\n",
    "\n",
    "1. Define the directory where your data is stored under <code>directory_path</code>.\n",
    "2. Choose your <code>slicing_factor</code> if any.\n",
    "3. Input the position of your nuclei channel in <code>nuclei_channel</code>.\n",
    "4. Define tiling strategy, segmentation type (\"2D\" or \"3D\") and your Stardist model with <code>n_tiles</code>, <code>segmentation_type</code>, <code>model_name</code>.\n",
    "5. Finally visualize and/or predict your nuclei labels and store them as .tiff files."
   ]
  },
  {
   "cell_type": "code",
   "execution_count": 8,
   "metadata": {},
   "outputs": [
    {
     "name": "stdout",
     "output_type": "stream",
     "text": [
      "Device name: /device:GPU:0\n",
      "Device type: GPU\n",
      "GPU model: device: 0, name: NVIDIA GeForce RTX 4090 Laptop GPU, pci bus id: 0000:01:00.0, compute capability: 8.9\n"
     ]
    }
   ],
   "source": [
    "from pathlib import Path\n",
    "import napari\n",
    "import warnings\n",
    "import tifffile\n",
    "import os\n",
    "import numpy as np\n",
    "from tqdm import tqdm\n",
    "from utils_stardist import get_gpu_details, list_images, maximum_intensity_projection, check_files, read_image, extract_nuclei_stack, get_stardist_model, segment_nuclei, remove_labels_touching_roi_edge\n",
    "\n",
    "get_gpu_details()"
   ]
  },
  {
   "cell_type": "markdown",
   "metadata": {},
   "source": [
    "<h3>Define the directory where your images are stored (.nd2 or .czi files)</h3>"
   ]
  },
  {
   "cell_type": "code",
   "execution_count": 9,
   "metadata": {},
   "outputs": [
    {
     "data": {
      "text/plain": [
       "['..\\\\raw_data\\\\SMA_staining\\\\SMA staining\\\\1361 436 MD SMA - 2016-04-15 07.36.02.ndpi',\n",
       " '..\\\\raw_data\\\\SMA_staining\\\\SMA staining\\\\1361 436+912 MI SMA - 2016-04-15 07.45.40.ndpi',\n",
       " '..\\\\raw_data\\\\SMA_staining\\\\SMA staining\\\\1362 436 MD SMA - 2016-04-15 07.50.57.ndpi',\n",
       " '..\\\\raw_data\\\\SMA_staining\\\\SMA staining\\\\1362 436+912 MI SMA - 2016-04-15 08.01.21.ndpi',\n",
       " '..\\\\raw_data\\\\SMA_staining\\\\SMA staining\\\\1363 436 MD SMA - 2016-04-15 08.12.14.ndpi',\n",
       " '..\\\\raw_data\\\\SMA_staining\\\\SMA staining\\\\1363 436+907 MI SMA - 2016-04-15 08.17.47.ndpi',\n",
       " '..\\\\raw_data\\\\SMA_staining\\\\SMA staining\\\\1364 436 MD SMA - 2016-04-15 08.29.51.ndpi',\n",
       " '..\\\\raw_data\\\\SMA_staining\\\\SMA staining\\\\1364 436+907 MI SMA - 2016-04-15 09.02.39.ndpi',\n",
       " '..\\\\raw_data\\\\SMA_staining\\\\SMA staining\\\\1368 436+907 MI SMA - 2016-04-15 09.20.09.ndpi',\n",
       " '..\\\\raw_data\\\\SMA_staining\\\\SMA staining\\\\1368 436+912 MD SMA - 2016-04-15 09.08.14.ndpi',\n",
       " '..\\\\raw_data\\\\SMA_staining\\\\SMA staining\\\\1369 436+907 MI SMA - 2016-04-15 09.33.49.ndpi',\n",
       " '..\\\\raw_data\\\\SMA_staining\\\\SMA staining\\\\1369 436+912 MD SMA - 2016-04-15 09.29.17.ndpi',\n",
       " '..\\\\raw_data\\\\SMA_staining\\\\SMA staining\\\\1370 436+907 MI SMA - 2016-04-15 09.56.54.ndpi',\n",
       " '..\\\\raw_data\\\\SMA_staining\\\\SMA staining\\\\1370 436+912 MD SMA - 2016-04-15 09.42.43.ndpi',\n",
       " '..\\\\raw_data\\\\SMA_staining\\\\SMA staining\\\\1371 436+907 MI SMA - 2016-04-15 07.22.21.ndpi',\n",
       " '..\\\\raw_data\\\\SMA_staining\\\\SMA staining\\\\1371 436+912 MD SMA - 2016-04-15 07.20.57.ndpi']"
      ]
     },
     "execution_count": 9,
     "metadata": {},
     "output_type": "execute_result"
    }
   ],
   "source": [
    "# Copy the path where your images are stored, you can use absolute or relative paths to point at other disk locations\n",
    "directory_path = Path(\"../raw_data/SMA_staining/SMA staining/\")\n",
    "\n",
    "# Construct ROI path from directory_path above\n",
    "roi_path = directory_path / \"ROIs\"\n",
    "\n",
    "# Iterate through the .czi and .nd2 files in the raw_data directory\n",
    "images = list_images(directory_path, format=\"ndpi\")\n",
    "\n",
    "images"
   ]
  },
  {
   "cell_type": "markdown",
   "metadata": {},
   "source": [
    "<h3>Define your nuclei channel and your nuclear segmentation parameters</h3>\n",
    "\n",
    "Open your image to check the channel position of your nuclei labels. Define the values for <code>slicing factor</code>."
   ]
  },
  {
   "cell_type": "code",
   "execution_count": 10,
   "metadata": {},
   "outputs": [
    {
     "data": {
      "text/plain": [
       "<Image layer 'img' at 0x151b3f1e2f0>"
      ]
     },
     "execution_count": 10,
     "metadata": {},
     "output_type": "execute_result"
    }
   ],
   "source": [
    "# Explore each image to analyze (0 defines the first image in the directory)\n",
    "image = images[0]\n",
    "\n",
    "# Image size reduction (downsampling) to improve processing times (slicing, not lossless compression)\n",
    "# Now, in addition to xy, you can downsample across your z-stack\n",
    "slicing_factor_xy = None # Use 2 or 4 for downsampling in xy (None for lossless)\n",
    "slicing_factor_z = None # Use 2 to select 1 out of every 2 z-slices\n",
    "\n",
    "# Read image, apply slicing if needed and return filename and img as a np array\n",
    "img, filename = read_image(image, slicing_factor_xy, slicing_factor_z)\n",
    "\n",
    "# Show image in Napari\n",
    "viewer = napari.Viewer(ndisplay=2)\n",
    "viewer.add_image(img)"
   ]
  },
  {
   "cell_type": "markdown",
   "metadata": {},
   "source": [
    "Modify the values for <code>nuclei_channel</code>, <code>segmentation_type</code> and choose your Stardist <code>model_name</code>"
   ]
  },
  {
   "cell_type": "code",
   "execution_count": 11,
   "metadata": {},
   "outputs": [
    {
     "name": "stdout",
     "output_type": "stream",
     "text": [
      "Loading 2D segmentation model\n",
      "Model test not found. Loading pretrained Stardist model '2D_versatile_fluo'.\n",
      "Found model '2D_versatile_fluo' for 'StarDist2D'.\n",
      "Loading network weights from 'weights_best.h5'.\n",
      "Loading thresholds from 'thresholds.json'.\n",
      "Using default values: prob_thresh=0.479071, nms_thresh=0.3.\n",
      "Dataset: SMA staining\n",
      "\n",
      "Missing roi files in '..\\raw_data\\SMA_staining\\SMA staining\\ROIs\\full_image':\n",
      "1361 436 MD SMA - 2016-04-15 07.36.02\n",
      "1361 436+912 MI SMA - 2016-04-15 07.45.40\n",
      "1362 436 MD SMA - 2016-04-15 07.50.57\n",
      "1362 436+912 MI SMA - 2016-04-15 08.01.21\n",
      "1363 436 MD SMA - 2016-04-15 08.12.14\n",
      "1363 436+907 MI SMA - 2016-04-15 08.17.47\n",
      "1364 436 MD SMA - 2016-04-15 08.29.51\n",
      "1364 436+907 MI SMA - 2016-04-15 09.02.39\n",
      "1368 436+907 MI SMA - 2016-04-15 09.20.09\n",
      "1368 436+912 MD SMA - 2016-04-15 09.08.14\n",
      "1369 436+907 MI SMA - 2016-04-15 09.33.49\n",
      "1369 436+912 MD SMA - 2016-04-15 09.29.17\n",
      "1370 436+907 MI SMA - 2016-04-15 09.56.54\n",
      "1370 436+912 MD SMA - 2016-04-15 09.42.43\n",
      "1371 436+907 MI SMA - 2016-04-15 07.22.21\n",
      "1371 436+912 MD SMA - 2016-04-15 07.20.57\n"
     ]
    }
   ],
   "source": [
    "# Define the nuclei and markers of interest channel order ('Remember in Python one starts counting from zero')\n",
    "nuclei_channel = 0\n",
    "\n",
    "# The n_tiles parameter defines the number of tiles the input volume/image will be divided into along each dimension (z, y, x) during prediction. \n",
    "# This is useful for processing large images that may not fit into memory at once.\n",
    "# While tiling can handle memory limitations, chopping the image into smaller chunks increases\n",
    "# the processing time for stitching the predictions back together. \n",
    "# Use n_tiles=(1, 1, 1) if the input volume fits in memory without tiling to minimize processing overhead.\n",
    "n_tiles=(1,3,3)\n",
    "\n",
    "# Segmentation type (\"2D\" or \"3D\").\n",
    "# Choose 2D if your input image has no z-dimension (not a 3D-stack, but a single plane 2D multichannel image) \n",
    "# 2D also takes a z-stack as input, performs MIP (Maximum Intensity Projection) and predicts nuclei from the resulting projection (faster, useful for single layers of cells)\n",
    "# 3D is more computationally expensive. Predicts 3D nuclear volumes, useful for multilayered structures\n",
    "segmentation_type = \"2D\"\n",
    "\n",
    "# Nuclear segmentation model type (\"Stardist\")\n",
    "# Choose your Stardist fine-tuned model (model_name) from stardist_models folder\n",
    "# If no custom model is present, type \"test\" and a standard pre-trained model will be loaded\n",
    "model_name = \"test\" # Type \"test\" if you don't have a custom model trained\n",
    "\n",
    "# Model loading \n",
    "model = get_stardist_model(segmentation_type, name=model_name, basedir='stardist_models')\n",
    "\n",
    "# Check if (all) ROIs are present before starting the nuclei prediction\n",
    "check_files(images, directory_path, segmentation_type, model_name, filetype='roi')\n",
    "\n",
    "# Remove img_mip from Napari\n",
    "if 'img_mip' in viewer.layers:\n",
    "    viewer.layers.remove('img_mip')"
   ]
  },
  {
   "cell_type": "markdown",
   "metadata": {},
   "source": [
    "<h3>Visualize and/or predict nuclei labels (and store them as .tiff files)</h3>"
   ]
  },
  {
   "cell_type": "code",
   "execution_count": 12,
   "metadata": {},
   "outputs": [
    {
     "name": "stderr",
     "output_type": "stream",
     "text": [
      "  0%|          | 0/1 [00:00<?, ?it/s]"
     ]
    },
    {
     "name": "stdout",
     "output_type": "stream",
     "text": [
      "Generating 2D nuclei predictions for full_image ROI\n"
     ]
    },
    {
     "name": "stderr",
     "output_type": "stream",
     "text": [
      "100%|██████████| 9/9 [00:14<00:00,  1.58s/it]\n"
     ]
    },
    {
     "name": "stdout",
     "output_type": "stream",
     "text": [
      "Removing nuclei labels touching ROI edge\n"
     ]
    },
    {
     "name": "stderr",
     "output_type": "stream",
     "text": [
      "100%|██████████| 1/1 [00:39<00:00, 39.44s/it]"
     ]
    },
    {
     "name": "stdout",
     "output_type": "stream",
     "text": [
      "\n",
      "Nuclei prediction completed\n"
     ]
    },
    {
     "name": "stderr",
     "output_type": "stream",
     "text": [
      "\n"
     ]
    }
   ],
   "source": [
    "# List of subfolder names\n",
    "try:\n",
    "    roi_names = [folder.name for folder in roi_path.iterdir() if folder.is_dir()]\n",
    "    print(f\"The following regions of interest will be analyzed: {roi_names}\")\n",
    "except FileNotFoundError:\n",
    "    roi_names = [\"full_image\"]\n",
    "\n",
    "for roi_name in tqdm(roi_names):\n",
    "    \n",
    "    # Check if the prediction has already been generated\n",
    "    file_path = Path(image)\n",
    "    filename = file_path.stem\n",
    "    pred_file = directory_path / \"nuclei_preds\" / segmentation_type / model_name / roi_name / f\"{filename}.tiff\"\n",
    "    \n",
    "    if pred_file.exists():\n",
    "\n",
    "        # If 3D-segmentation input nuclei_img is a 3D-stack\n",
    "        if segmentation_type == \"3D\":\n",
    "            # Slice the nuclei stack\n",
    "            nuclei_img = extract_nuclei_stack(img, nuclei_channel)\n",
    "            print(f\"Generating {segmentation_type} nuclei predictions for {roi_name} ROI\")\n",
    "\n",
    "        # If 2D-segmentation input nuclei_img is a max intensity projection of said 3D-stack or a 2D-image\n",
    "        elif segmentation_type == \"2D\":\n",
    "            # Slice the nuclei stack\n",
    "            nuclei_img = extract_nuclei_stack(img, nuclei_channel)\n",
    "            print(f\"Generating {segmentation_type} nuclei predictions for {roi_name} ROI\")\n",
    "\n",
    "        # Add input nuclei_img to the viewer\n",
    "        if 'nuclei_img' not in viewer.layers:\n",
    "            viewer.add_image(nuclei_img)\n",
    "\n",
    "        print(f\"\\nWARNING: Nuclei predictions already found for: {filename} ROI: {roi_name}\")\n",
    "        print(\"Make sure nuclei labels were generated using the same settings.\")\n",
    "        nuclei_labels = tifffile.imread(pred_file)\n",
    "        viewer.add_labels(nuclei_labels, name=f'{roi_name}_nuclei_labels')\n",
    "\n",
    "        continue\n",
    "        \n",
    "    # Proceed to generate predictions if the file is not found\n",
    "\n",
    "    # Read image, apply slicing if needed and return filename and img as a np array\n",
    "    img, filename = read_image(image, slicing_factor_xy, slicing_factor_z)\n",
    "\n",
    "    # If 3D-segmentation input nuclei_img is a 3D-stack\n",
    "    if segmentation_type == \"3D\":\n",
    "        # Slice the nuclei stack\n",
    "        nuclei_img = extract_nuclei_stack(img, nuclei_channel)\n",
    "        print(f\"Generating {segmentation_type} nuclei predictions for {roi_name} ROI\")\n",
    "\n",
    "    # If 2D-segmentation input nuclei_img is a max itensity projection of said 3D-stack\n",
    "    elif segmentation_type == \"2D\":\n",
    "        # Slice the nuclei stack\n",
    "        nuclei_img = extract_nuclei_stack(img, nuclei_channel)\n",
    "        print(f\"Generating {segmentation_type} nuclei predictions for {roi_name} ROI\")\n",
    "\n",
    "    # Add input nuclei_img to the viewer\n",
    "    if 'nuclei_img' not in viewer.layers:\n",
    "        viewer.add_image(nuclei_img)\n",
    "\n",
    "    # Construct path to read ROI\n",
    "    roi_img_path = directory_path / \"ROIs\" / roi_name / f\"{filename}.tiff\"\n",
    "\n",
    "    try:\n",
    "        # Read the .tiff files containing the user-defined ROIs and add them to Napari\n",
    "        roi = tifffile.imread(roi_img_path)\n",
    "        viewer.add_labels(roi, name=f'{roi_name}_ROI')\n",
    "\n",
    "        if np.all(roi == 0):\n",
    "            warnings.warn(\"ROI file is empty (all zeros). Nuclei prediction running across the entire image\", UserWarning)\n",
    "            roi = np.ones_like(roi, dtype=np.uint8)  # Replace with ones\n",
    "\n",
    "        # We will create a mask where roi is greater than or equal to 1\n",
    "        mask = (roi >= 1).astype(np.uint8)\n",
    "\n",
    "        # 3D segmentation logic, extend 2D mask across the entire stack volume\n",
    "        if segmentation_type == \"3D\":\n",
    "            # Extract the number of z-slices to extend the mask\n",
    "            slice_nr = img.shape[1]\n",
    "\n",
    "            # Extend the mask across the entire volume\n",
    "            mask = np.tile(mask, (slice_nr, 1, 1))\n",
    "\n",
    "            # Apply the mask to nuclei_img and marker_img, setting all other pixels to 0\n",
    "            masked_nuclei_img = np.where(mask, nuclei_img, 0)\n",
    "            \n",
    "        elif segmentation_type == \"2D\":\n",
    "            # Apply the mask to nuclei_img and marker_img, setting all other pixels to 0\n",
    "            masked_nuclei_img = np.where(mask, nuclei_img, 0)\n",
    "\n",
    "    except FileNotFoundError:\n",
    "        # If no ROI is saved the script will predict nuclei in the entire nuclei_img input\n",
    "        masked_nuclei_img = nuclei_img\n",
    "\n",
    "    # Segment nuclei and return labels\n",
    "    nuclei_labels = segment_nuclei(masked_nuclei_img, segmentation_type, model, n_tiles)\n",
    "\n",
    "    # Remove labels touching ROI edge\n",
    "    try:\n",
    "        print(\"Removing nuclei labels touching ROI edge\")\n",
    "        nuclei_labels = remove_labels_touching_roi_edge(nuclei_labels, roi)\n",
    "    except NameError: # Generate ROI around the entire image\n",
    "        roi = np.ones(nuclei_labels.shape[-2:], dtype=np.int8)\n",
    "        nuclei_labels = remove_labels_touching_roi_edge(nuclei_labels, roi)\n",
    "\n",
    "    # Add labels to Napari\n",
    "    viewer.add_labels(nuclei_labels, name=f'{roi_name}_nuclei_labels')\n",
    "\n",
    "    # Save nuclei labels as .tiff files to reuse them later\n",
    "    # Create nuclei_predictions directory if it does not exist\n",
    "    try:\n",
    "        os.makedirs(directory_path / \"nuclei_preds\" / segmentation_type / model_name / roi_name)\n",
    "    except FileExistsError:\n",
    "        pass\n",
    "\n",
    "    # Construct path to store\n",
    "    nuclei_preds_path = directory_path / \"nuclei_preds\" / segmentation_type / model_name / roi_name / f\"{filename}.tiff\"\n",
    "\n",
    "    # Save nuclei labels as .tiff\n",
    "    tifffile.imwrite(nuclei_preds_path, nuclei_labels)\n",
    "\n",
    "print(\"\\nNuclei prediction completed\")"
   ]
  }
 ],
 "metadata": {
  "kernelspec": {
   "display_name": "brain_nuc_stardist",
   "language": "python",
   "name": "python3"
  },
  "language_info": {
   "codemirror_mode": {
    "name": "ipython",
    "version": 3
   },
   "file_extension": ".py",
   "mimetype": "text/x-python",
   "name": "python",
   "nbconvert_exporter": "python",
   "pygments_lexer": "ipython3",
   "version": "3.10.16"
  }
 },
 "nbformat": 4,
 "nbformat_minor": 2
}
