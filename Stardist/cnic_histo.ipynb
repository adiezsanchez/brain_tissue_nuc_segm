{
 "cells": [
  {
   "cell_type": "code",
   "execution_count": 1,
   "id": "4fd90b1f",
   "metadata": {},
   "outputs": [
    {
     "name": "stdout",
     "output_type": "stream",
     "text": [
      "Device name: /device:GPU:0\n",
      "Device type: GPU\n",
      "GPU model: device: 0, name: NVIDIA GeForce RTX 4090 Laptop GPU, pci bus id: 0000:01:00.0, compute capability: 8.9\n",
      "Found model '2D_versatile_fluo' for 'StarDist2D'.\n",
      "Loading network weights from 'weights_best.h5'.\n",
      "Loading thresholds from 'thresholds.json'.\n",
      "Using default values: prob_thresh=0.479071, nms_thresh=0.3.\n"
     ]
    }
   ],
   "source": [
    "from pathlib import Path\n",
    "from skimage.color import separate_stains, hed_from_rgb\n",
    "from stardist.models import StarDist2D\n",
    "from csbdeep.utils import normalize\n",
    "import tifffile\n",
    "import openslide\n",
    "import gc\n",
    "import napari\n",
    "import os\n",
    "from tqdm import tqdm\n",
    "import numpy as np\n",
    "import pandas as pd\n",
    "from skimage.measure import regionprops_table\n",
    "import plotly.express as px\n",
    "from utils_stardist import get_gpu_details, list_images, extract_nuclei_stack, get_stardist_model, maximum_intensity_projection, save_rois, simulate_cytoplasm_chunked_3d, simulate_cell_chunked_3d, simulate_cytoplasm, simulate_cell, segment_nuclei, remove_labels_touching_roi_edge\n",
    "\n",
    "get_gpu_details()\n",
    "\n",
    "model = StarDist2D.from_pretrained('2D_versatile_fluo')"
   ]
  },
  {
   "cell_type": "code",
   "execution_count": 2,
   "id": "27555e38",
   "metadata": {},
   "outputs": [
    {
     "data": {
      "text/plain": [
       "['..\\\\raw_data\\\\SMA_staining\\\\SMA staining\\\\1361 436 MD SMA - 2016-04-15 07.36.02.ndpi',\n",
       " '..\\\\raw_data\\\\SMA_staining\\\\SMA staining\\\\1361 436+912 MI SMA - 2016-04-15 07.45.40.ndpi',\n",
       " '..\\\\raw_data\\\\SMA_staining\\\\SMA staining\\\\1362 436 MD SMA - 2016-04-15 07.50.57.ndpi',\n",
       " '..\\\\raw_data\\\\SMA_staining\\\\SMA staining\\\\1362 436+912 MI SMA - 2016-04-15 08.01.21.ndpi',\n",
       " '..\\\\raw_data\\\\SMA_staining\\\\SMA staining\\\\1363 436 MD SMA - 2016-04-15 08.12.14.ndpi',\n",
       " '..\\\\raw_data\\\\SMA_staining\\\\SMA staining\\\\1363 436+907 MI SMA - 2016-04-15 08.17.47.ndpi',\n",
       " '..\\\\raw_data\\\\SMA_staining\\\\SMA staining\\\\1364 436 MD SMA - 2016-04-15 08.29.51.ndpi',\n",
       " '..\\\\raw_data\\\\SMA_staining\\\\SMA staining\\\\1364 436+907 MI SMA - 2016-04-15 09.02.39.ndpi',\n",
       " '..\\\\raw_data\\\\SMA_staining\\\\SMA staining\\\\1368 436+907 MI SMA - 2016-04-15 09.20.09.ndpi',\n",
       " '..\\\\raw_data\\\\SMA_staining\\\\SMA staining\\\\1368 436+912 MD SMA - 2016-04-15 09.08.14.ndpi',\n",
       " '..\\\\raw_data\\\\SMA_staining\\\\SMA staining\\\\1369 436+907 MI SMA - 2016-04-15 09.33.49.ndpi',\n",
       " '..\\\\raw_data\\\\SMA_staining\\\\SMA staining\\\\1369 436+912 MD SMA - 2016-04-15 09.29.17.ndpi',\n",
       " '..\\\\raw_data\\\\SMA_staining\\\\SMA staining\\\\1370 436+907 MI SMA - 2016-04-15 09.56.54.ndpi',\n",
       " '..\\\\raw_data\\\\SMA_staining\\\\SMA staining\\\\1370 436+912 MD SMA - 2016-04-15 09.42.43.ndpi',\n",
       " '..\\\\raw_data\\\\SMA_staining\\\\SMA staining\\\\1371 436+907 MI SMA - 2016-04-15 07.22.21.ndpi',\n",
       " '..\\\\raw_data\\\\SMA_staining\\\\SMA staining\\\\1371 436+912 MD SMA - 2016-04-15 07.20.57.ndpi']"
      ]
     },
     "execution_count": 2,
     "metadata": {},
     "output_type": "execute_result"
    }
   ],
   "source": [
    "# Copy the path where your images are stored, you can use absolute or relative paths to point at other disk locations\n",
    "directory_path = Path(\"../raw_data/SMA_staining/SMA staining/\")\n",
    "\n",
    "# Iterate through the .czi and .nd2 files in the raw_data directory\n",
    "images = list_images(directory_path, format=\"ndpi\")\n",
    "\n",
    "images"
   ]
  },
  {
   "cell_type": "code",
   "execution_count": 3,
   "id": "c39746d9",
   "metadata": {},
   "outputs": [],
   "source": [
    "slide = openslide.OpenSlide(images[0])\n",
    "\n",
    "# Get level 0 dimensions (highest resolution)\n",
    "# width, height = slide.dimensions\n",
    "\n",
    "# Optionally, you can select a lower resolution level for faster loading\n",
    "level = 1  # for example\n",
    "width, height = slide.level_dimensions[level]\n",
    "\n",
    "# Read region from level 0 (top-left corner, full size)\n",
    "# The region is returned as a PIL Image\n",
    "region = slide.read_region(location=(0, 0), level=1, size=(width, height))\n",
    "\n",
    "# Remove slide variable\n",
    "del slide\n",
    "gc.collect()\n",
    "\n",
    "# Convert to RGB (removes alpha channel) and then to NumPy array\n",
    "region_rgb = region.convert(\"RGB\")\n",
    "image_np = np.array(region_rgb)\n",
    "\n",
    "# Perform color deconvolution\n",
    "deconvolved = separate_stains(image_np, hed_from_rgb)\n",
    "nuclei_img = deconvolved[:,:,0]\n",
    "dab_img = deconvolved[:,:,2]"
   ]
  },
  {
   "cell_type": "code",
   "execution_count": null,
   "id": "57e7eb07",
   "metadata": {},
   "outputs": [],
   "source": [
    "prob_thresh = None\n",
    "nms_thresh = None\n",
    "\n",
    "labels, _ = model.predict_instances(normalize(deconvolved[:,:,0]),\n",
    "                                    n_tiles = (3,3), \n",
    "                                    prob_thresh=prob_thresh, \n",
    "                                    nms_thresh=nms_thresh)"
   ]
  },
  {
   "cell_type": "code",
   "execution_count": 15,
   "id": "bfb09f7f",
   "metadata": {},
   "outputs": [
    {
     "data": {
      "text/plain": [
       "<Labels layer 'nuclei_labels' at 0x18bc127bfd0>"
      ]
     },
     "execution_count": 15,
     "metadata": {},
     "output_type": "execute_result"
    }
   ],
   "source": [
    "viewer = napari.Viewer(ndisplay=2)\n",
    "viewer.add_image(image_np)\n",
    "viewer.add_image(nuclei_img, name=\"Nuclei\")\n",
    "viewer.add_image(dab_img, name=\"DAB\")\n",
    "viewer.add_labels(labels, name=\"nuclei_labels\")"
   ]
  },
  {
   "cell_type": "code",
   "execution_count": null,
   "id": "23c3043e",
   "metadata": {},
   "outputs": [],
   "source": [
    "#TODO: Batch predict and save nuclei labels, modify read image function for ndpi and color deconv, batch predict nuclei, train obj classifier"
   ]
  }
 ],
 "metadata": {
  "kernelspec": {
   "display_name": "brain_nuc_stardist",
   "language": "python",
   "name": "python3"
  },
  "language_info": {
   "codemirror_mode": {
    "name": "ipython",
    "version": 3
   },
   "file_extension": ".py",
   "mimetype": "text/x-python",
   "name": "python",
   "nbconvert_exporter": "python",
   "pygments_lexer": "ipython3",
   "version": "3.10.16"
  }
 },
 "nbformat": 4,
 "nbformat_minor": 5
}
